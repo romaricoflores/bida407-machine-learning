{
 "cells": [
  {
   "cell_type": "code",
   "execution_count": 1,
   "id": "8cbe13f4",
   "metadata": {},
   "outputs": [
    {
     "name": "stdout",
     "output_type": "stream",
     "text": [
      "Done!\n"
     ]
    }
   ],
   "source": [
    "import numpy as np\n",
    "import tensorflow as tf\n",
    "import matplotlib.pyplot as plt\n",
    "\n",
    "from tensorflow.keras import layers\n",
    "from tensorflow.keras.datasets import mnist\n",
    "from tensorflow.keras.models import Model\n",
    "\n",
    "import tensorflow \n",
    "from tensorflow.keras.layers import Input, Dense, Conv2D, GlobalMaxPooling2D,MaxPooling2D, UpSampling2D,Flatten,Reshape,BatchNormalization,Dropout,LeakyReLU,ReLU\n",
    "from tensorflow.keras.models import Model\n",
    "from tensorflow.keras import backend as K\n",
    "import tensorflow.keras\n",
    "from tensorflow.keras.models import load_model\n",
    "from tensorflow.keras.activations import selu\n",
    "from tensorflow.keras.callbacks import EarlyStopping\n",
    "early_stopping = EarlyStopping(monitor='val_mean_squared_error', patience=5)\n",
    "import numpy as np\n",
    "import tensorflow as tf\n",
    "from sklearn import preprocessing\n",
    "from matplotlib import  pylab as plt\n",
    "from astropy.visualization import (ZScaleInterval, ImageNormalize)\n",
    "import numpy as np\n",
    "import tensorflow as tf\n",
    "import matplotlib.pyplot as plt\n",
    "\n",
    "from tensorflow.keras import layers\n",
    "from tensorflow.keras.datasets import mnist\n",
    "from tensorflow.keras.models import Model\n",
    "from tensorflow.keras import backend\n",
    "#backend.set_image_data_format('channels_first')\n",
    "print('Done!')"
   ]
  },
  {
   "cell_type": "code",
   "execution_count": 2,
   "id": "a8ba268f",
   "metadata": {},
   "outputs": [
    {
     "name": "stdout",
     "output_type": "stream",
     "text": [
      "Done!\n"
     ]
    }
   ],
   "source": [
    "from IPython.display import clear_output\n",
    "class PlotLosses(tensorflow.keras.callbacks.Callback):\n",
    "    def on_train_begin(self, logs={}):\n",
    "        self.i = 0\n",
    "        self.x = []\n",
    "        self.losses = []\n",
    "        self.val_losses = []\n",
    "        \n",
    "        self.fig = plt.figure()\n",
    "        \n",
    "        self.logs = []\n",
    "\n",
    "    def on_epoch_end(self, epoch, logs={}):\n",
    "        \n",
    "        self.logs.append(logs)\n",
    "        self.x.append(self.i)\n",
    "        self.losses.append(logs.get('accuracy'))\n",
    "        self.val_losses.append(logs.get('val_accuracy'))\n",
    "        self.i += 1\n",
    "        \n",
    "        clear_output(wait=True)\n",
    "        plt.plot(self.x, self.losses, label=\"train\")\n",
    "        plt.plot(self.x, self.val_losses, label=\"validation\",linestyle='--')\n",
    "        plt.legend()\n",
    "        plt.show();\n",
    "        \n",
    "plot_losses = PlotLosses()\n",
    "\n",
    "print('Done!')"
   ]
  },
  {
   "cell_type": "code",
   "execution_count": 3,
   "id": "142d3fcb",
   "metadata": {},
   "outputs": [],
   "source": [
    "\n",
    "\n",
    "def preprocess(array):\n",
    "    \"\"\"\n",
    "    Normalizes the supplied array and reshapes it into the appropriate format.\n",
    "    \"\"\"\n",
    "\n",
    "    array = array.astype(\"float32\") / 255.0\n",
    "    array = np.reshape(array, (len(array), 28, 28, 1))\n",
    "    return array\n",
    "\n",
    "\n",
    "def noise(array):\n",
    "    \"\"\"\n",
    "    Adds random noise to each image in the supplied array.\n",
    "    \"\"\"\n",
    "\n",
    "    noise_factor = 0\n",
    "    noisy_array = array + noise_factor * np.random.normal(\n",
    "        loc=0.0, scale=1.0, size=array.shape\n",
    "    )\n",
    "\n",
    "    return np.clip(noisy_array, 0.0, 1.0)\n",
    "\n",
    "\n",
    "def display(array1, array2):\n",
    "    \"\"\"\n",
    "    Displays ten random images from each one of the supplied arrays.\n",
    "    \"\"\"\n",
    "\n",
    "    n = 10\n",
    "\n",
    "    indices = np.random.randint(len(array1), size=n)\n",
    "    images1 = array1[indices, :]\n",
    "    images2 = array2[indices, :]\n",
    "\n",
    "    plt.figure(figsize=(20, 4))\n",
    "    for i, (image1, image2) in enumerate(zip(images1, images2)):\n",
    "        ax = plt.subplot(2, n, i + 1)\n",
    "        plt.imshow(image1.reshape(28, 28))\n",
    "        plt.gray()\n",
    "        ax.get_xaxis().set_visible(False)\n",
    "        ax.get_yaxis().set_visible(False)\n",
    "\n",
    "        ax = plt.subplot(2, n, i + 1 + n)\n",
    "        plt.imshow(image2.reshape(28, 28))\n",
    "        plt.gray()\n",
    "        ax.get_xaxis().set_visible(False)\n",
    "        ax.get_yaxis().set_visible(False)\n",
    "\n",
    "    plt.show()"
   ]
  },
  {
   "cell_type": "code",
   "execution_count": 4,
   "id": "87f4d125",
   "metadata": {},
   "outputs": [
    {
     "data": {
      "image/png": "[encoded data removed]",
      "text/plain": [
       "<Figure size 2000x400 with 20 Axes>"
      ]
     },
     "metadata": {},
     "output_type": "display_data"
    }
   ],
   "source": [
    "# Since we only need images from the dataset to encode and decode, we\n",
    "# won't use the labels.\n",
    "(inp_tr, tar_tr), (inp_va, tar_va) = mnist.load_data()\n",
    "\n",
    "# Normalize and reshape the data\n",
    "inp_tr = preprocess(inp_tr)\n",
    "inp_va = preprocess(inp_va)\n",
    "\n",
    "# Create a copy of the data with added noise\n",
    "noisy_inp_tr = noise(inp_tr)\n",
    "noisy_inp_va = noise(inp_va)\n",
    "\n",
    "# Display the train data and a version of it with added noise\n",
    "display(inp_tr, noisy_inp_tr)"
   ]
  },
  {
   "cell_type": "code",
   "execution_count": 5,
   "id": "383ce6a0",
   "metadata": {},
   "outputs": [],
   "source": [
    "num_classes = 10\n",
    "tar_tr_cat = tensorflow.keras.utils.to_categorical(tar_tr, num_classes)\n",
    "tar_va_cat = tensorflow.keras.utils.to_categorical(tar_va, num_classes)"
   ]
  },
  {
   "cell_type": "code",
   "execution_count": 6,
   "id": "4409360a",
   "metadata": {},
   "outputs": [
    {
     "name": "stdout",
     "output_type": "stream",
     "text": [
      "[5 0 4 ... 5 6 8]\n"
     ]
    }
   ],
   "source": [
    "print(tar_tr)"
   ]
  },
  {
   "cell_type": "code",
   "execution_count": 7,
   "id": "f055ce32",
   "metadata": {},
   "outputs": [
    {
     "name": "stdout",
     "output_type": "stream",
     "text": [
      "[[0. 0. 0. ... 0. 0. 0.]\n",
      " [1. 0. 0. ... 0. 0. 0.]\n",
      " [0. 0. 0. ... 0. 0. 0.]\n",
      " ...\n",
      " [0. 0. 0. ... 0. 0. 0.]\n",
      " [0. 0. 0. ... 0. 0. 0.]\n",
      " [0. 0. 0. ... 0. 1. 0.]]\n"
     ]
    }
   ],
   "source": [
    "print(tar_tr_cat)"
   ]
  },
  {
   "cell_type": "code",
   "execution_count": 8,
   "id": "c6c165f8",
   "metadata": {},
   "outputs": [
    {
     "name": "stdout",
     "output_type": "stream",
     "text": [
      "Model: \"model\"\n",
      "_________________________________________________________________\n",
      " Layer (type)                Output Shape              Param #   \n",
      "=================================================================\n",
      " input_1 (InputLayer)        [(None, 28, 28, 1)]       0         \n",
      "                                                                 \n",
      " conv2d (Conv2D)             (None, 28, 28, 32)        320       \n",
      "                                                                 \n",
      " max_pooling2d (MaxPooling2D  (None, 14, 14, 32)       0         \n",
      " )                                                               \n",
      "                                                                 \n",
      " conv2d_1 (Conv2D)           (None, 14, 14, 32)        9248      \n",
      "                                                                 \n",
      " max_pooling2d_1 (MaxPooling  (None, 7, 7, 32)         0         \n",
      " 2D)                                                             \n",
      "                                                                 \n",
      " conv2d_2 (Conv2D)           (None, 7, 7, 32)          9248      \n",
      "                                                                 \n",
      " max_pooling2d_2 (MaxPooling  (None, 4, 4, 32)         0         \n",
      " 2D)                                                             \n",
      "                                                                 \n",
      " flat (Flatten)              (None, 512)               0         \n",
      "                                                                 \n",
      " dense (Dense)               (None, 500)               256500    \n",
      "                                                                 \n",
      " dropout (Dropout)           (None, 500)               0         \n",
      "                                                                 \n",
      " dense_1 (Dense)             (None, 100)               50100     \n",
      "                                                                 \n",
      " dropout_1 (Dropout)         (None, 100)               0         \n",
      "                                                                 \n",
      " dense_2 (Dense)             (None, 10)                1010      \n",
      "                                                                 \n",
      "=================================================================\n",
      "Total params: 326,426\n",
      "Trainable params: 326,426\n",
      "Non-trainable params: 0\n",
      "_________________________________________________________________\n"
     ]
    }
   ],
   "source": [
    "class_input = layers.Input(shape=(28, 28, 1))\n",
    "\n",
    "# Encoder\n",
    "X = layers.Conv2D(32, (3, 3), activation=\"relu\", padding=\"same\")(class_input)\n",
    "X = layers.MaxPooling2D((2, 2), padding=\"same\")(X)\n",
    "\n",
    "X = layers.Conv2D(32, (3, 3), activation=\"relu\", padding=\"same\")(X)\n",
    "X = layers.MaxPooling2D((2, 2), padding=\"same\")(X)\n",
    "\n",
    "X = layers.Conv2D(32, (3, 3), activation=\"relu\", padding=\"same\")(X)\n",
    "X= layers.MaxPooling2D((2, 2), padding=\"same\")(X)\n",
    "\n",
    "\n",
    "#x=BatchNormalization()(x)\n",
    "flat = Flatten(name = 'flat')(X)\n",
    "\n",
    "\n",
    "\n",
    "x=Dense(500,activation='relu')(flat)\n",
    "x = Dropout(0.25)(x)\n",
    "\n",
    "x=Dense(100,activation='relu')(x)\n",
    "#x=BatchNormalization()(x)\n",
    "x = Dropout(0.25)(x)\n",
    "\n",
    "\n",
    "class_output=Dense(10,activation='softmax')(x)\n",
    "\n",
    "# Autoencoder\n",
    "classifer = Model(class_input, class_output)\n",
    "classifer.compile(optimizer=\"adam\", loss='categorical_crossentropy',metrics='acuracy')\n",
    "classifer.summary()"
   ]
  },
  {
   "cell_type": "code",
   "execution_count": 9,
   "id": "9fedbed5",
   "metadata": {},
   "outputs": [],
   "source": [
    "early_stopping = EarlyStopping(monitor='accuracy', patience=4)"
   ]
  },
  {
   "cell_type": "code",
   "execution_count": 10,
   "id": "83e80d35",
   "metadata": {},
   "outputs": [
    {
     "data": {
      "image/png": "[encoded data removed]",
      "text/plain": [
       "<Figure size 640x480 with 1 Axes>"
      ]
     },
     "metadata": {},
     "output_type": "display_data"
    },
    {
     "name": "stdout",
     "output_type": "stream",
     "text": [
      "\b\b\b\b\b\b\b\b\b\b\b\b\b\b\b\b\b\b\b\b\b\b\b\b\b\b\b\b\b\b\b\b\b\b\b\b\b\b\b\b\b\b\b\b\b\b\b\b\b\b\b\b\b\b\b\b\b\b\b\b\b\b\b\b\b\b\b\b\b\b\b\b\b\b\b\b\b\b\b\b\b\b\b\b\r",
      "469/469 [==============================] - 2s 4ms/step - loss: 0.0117 - accuracy: 0.9965 - val_loss: 0.0308 - val_accuracy: 0.9920\n"
     ]
    },
    {
     "data": {
      "text/plain": [
       "<keras.callbacks.History at 0x25e8f23f790>"
      ]
     },
     "execution_count": 10,
     "metadata": {},
     "output_type": "execute_result"
    }
   ],
   "source": [
    "batch_size = 128\n",
    "epochs = 15\n",
    "\n",
    "classifer.compile(loss=\"categorical_crossentropy\", optimizer=\"adam\", metrics=[\"accuracy\"])\n",
    "\n",
    "classifer.fit(noisy_inp_tr, tar_tr_cat, batch_size=batch_size, epochs=epochs, \n",
    "              validation_data=(noisy_inp_va,tar_va_cat),callbacks=[plot_losses,early_stopping])"
   ]
  },
  {
   "cell_type": "code",
   "execution_count": 11,
   "id": "6cdf1762",
   "metadata": {},
   "outputs": [
    {
     "name": "stdout",
     "output_type": "stream",
     "text": [
      "313/313 [==============================] - 0s 1ms/step\n"
     ]
    }
   ],
   "source": [
    "predictions = classifer.predict(noisy_inp_va)\n"
   ]
  },
  {
   "cell_type": "code",
   "execution_count": 16,
   "id": "a7a7779b",
   "metadata": {},
   "outputs": [
    {
     "data": {
      "text/plain": [
       "array([4.1131097e-14, 4.8452542e-10, 5.9878857e-10, 5.2050125e-11,\n",
       "       1.2038028e-08, 3.6401459e-13, 1.2138339e-13, 1.0000000e+00,\n",
       "       3.5364927e-12, 1.3972617e-08], dtype=float32)"
      ]
     },
     "execution_count": 16,
     "metadata": {},
     "output_type": "execute_result"
    }
   ],
   "source": [
    "predictions[0]"
   ]
  },
  {
   "cell_type": "code",
   "execution_count": 12,
   "id": "fd8b7b7d",
   "metadata": {},
   "outputs": [
    {
     "name": "stdout",
     "output_type": "stream",
     "text": [
      "Model: \"model\"\n",
      "_________________________________________________________________\n",
      " Layer (type)                Output Shape              Param #   \n",
      "=================================================================\n",
      " input_1 (InputLayer)        [(None, 28, 28, 1)]       0         \n",
      "                                                                 \n",
      " conv2d (Conv2D)             (None, 28, 28, 32)        320       \n",
      "                                                                 \n",
      " max_pooling2d (MaxPooling2D  (None, 14, 14, 32)       0         \n",
      " )                                                               \n",
      "                                                                 \n",
      " conv2d_1 (Conv2D)           (None, 14, 14, 32)        9248      \n",
      "                                                                 \n",
      " max_pooling2d_1 (MaxPooling  (None, 7, 7, 32)         0         \n",
      " 2D)                                                             \n",
      "                                                                 \n",
      " conv2d_2 (Conv2D)           (None, 7, 7, 32)          9248      \n",
      "                                                                 \n",
      " max_pooling2d_2 (MaxPooling  (None, 4, 4, 32)         0         \n",
      " 2D)                                                             \n",
      "                                                                 \n",
      " flat (Flatten)              (None, 512)               0         \n",
      "                                                                 \n",
      " dense (Dense)               (None, 500)               256500    \n",
      "                                                                 \n",
      " dropout (Dropout)           (None, 500)               0         \n",
      "                                                                 \n",
      " dense_1 (Dense)             (None, 100)               50100     \n",
      "                                                                 \n",
      " dropout_1 (Dropout)         (None, 100)               0         \n",
      "                                                                 \n",
      " dense_2 (Dense)             (None, 10)                1010      \n",
      "                                                                 \n",
      "=================================================================\n",
      "Total params: 326,426\n",
      "Trainable params: 326,426\n",
      "Non-trainable params: 0\n",
      "_________________________________________________________________\n"
     ]
    }
   ],
   "source": [
    "# Today save the model\n",
    "from tensorflow.keras.models import save_model\n",
    "save_model(classifer, \"classifer.h5\")\n",
    "\n",
    "# Tomorrow load the model and use it\n",
    "\n",
    "# load model\n",
    "loaded_classifer = load_model('classifer.h5')\n",
    "# print summary\n",
    "loaded_classifer.summary()"
   ]
  },
  {
   "cell_type": "markdown",
   "id": "057138f7",
   "metadata": {},
   "source": [
    "# Use relevant metrics to evluate the performance of the model (Recall, confusion matrix, ....)"
   ]
  },
  {
   "cell_type": "code",
   "execution_count": null,
   "id": "6c35b273",
   "metadata": {},
   "outputs": [],
   "source": []
  }
 ],
 "metadata": {
  "kernelspec": {
   "display_name": "Python 3 (ipykernel)",
   "language": "python",
   "name": "python3"
  },
  "language_info": {
   "codemirror_mode": {
    "name": "ipython",
    "version": 3
   },
   "file_extension": ".py",
   "mimetype": "text/x-python",
   "name": "python",
   "nbconvert_exporter": "python",
   "pygments_lexer": "ipython3",
   "version": "3.9.12"
  }
 },
 "nbformat": 4,
 "nbformat_minor": 5
}
